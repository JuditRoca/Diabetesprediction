{
 "cells": [
  {
   "attachments": {},
   "cell_type": "markdown",
   "metadata": {},
   "source": [
    "![portada](../Data/Portada2.jpg)"
   ]
  },
  {
   "attachments": {},
   "cell_type": "markdown",
   "metadata": {},
   "source": [
    "\n",
    "1. [Introducción](#1.-Introduccion)\n",
    "2. [Hipótesis](#2.-Hipotesis)\n",
    "3. [Metodología](#3.-Metodologia)\n",
    "4. [Acotación de datos](#4.-Acotacion-de-datos)\n",
    "5. [Descripción de las variables](#5.-Descripcion-de-las-variables)\n",
    "6. [Análisis](#6.-Analisis)\n",
    "7. [Conclusiones](#7.-Conclusiones)"
   ]
  },
  {
   "attachments": {},
   "cell_type": "markdown",
   "metadata": {},
   "source": [
    "## 1. Introduccion\n",
    "\n",
    "En el mundo actual, el análisis de datos desempeña un papel fundamental en la toma de decisiones empresariales. Los analistas de datos son profesionales altamente demandados que utilizan sus habilidades técnicas y conocimientos para extraer información valiosa a partir de conjuntos de datos. Sin embargo, comprender la relación entre los distintos puestos de analista de datos y los salarios asociados puede ser clave tanto para los empleadores como para los profesionales en busca de oportunidades laborales.\n",
    "\n",
    "En este Análisis Exploratorio de Datos (EDA), exploraremos los salarios de los analistas de datos en función del nivel de experiencia y el puesto específico. Investigaremos cómo los salarios varían entre diferentes niveles de experiencia, desde analistas de datos junior hasta analistas de datos senior, y también analizaremos las diferencias salariales entre distintos puestos, como analista de datos de negocios, analista de datos de marketing, analista de datos financieros, entre otros.\n",
    "\n",
    "Al realizar este EDA, esperamos descubrir patrones, tendencias y relaciones que nos permitan comprender mejor la estructura salarial dentro del campo de los analistas de datos. Estos hallazgos podrían proporcionar información valiosa tanto para los empleadores, que podrían ajustar sus políticas salariales para atraer y retener talento, como para los profesionales en busca de oportunidades laborales, que podrían utilizar esta información para tomar decisiones informadas sobre su carrera.\n",
    "\n",
    "A través de visualizaciones, análisis estadísticos y exploración de datos, buscaremos revelar conocimientos clave sobre los salarios de los analistas de datos según el nivel de experiencia y el puesto. Este análisis puede servir como punto de partida para un análisis más profundo y ayudar a orientar las decisiones relacionadas con la compensación salarial en el campo de los analistas de datos.\n",
    "\n"
   ]
  },
  {
   "attachments": {},
   "cell_type": "markdown",
   "metadata": {},
   "source": [
    "## 2. Hipotesis\n",
    "\n",
    "Nuestra principal hipotesis son existencia de correlación entre los años de experiencia y el salario. Pero en este EDA queremos indagar mas profundamente. Buscamos encontrar la relación entre el salario y tamaño de la empresa, asi como el país de procedencia de la empresa. \n",
    "\n",
    "Valoramos también el tipo de contrato y las consecuencias que tiene en la retribución salarial."
   ]
  }
 ],
 "metadata": {
  "kernelspec": {
   "display_name": "Python 3",
   "language": "python",
   "name": "python3"
  },
  "language_info": {
   "codemirror_mode": {
    "name": "ipython",
    "version": 3
   },
   "file_extension": ".py",
   "mimetype": "text/x-python",
   "name": "python",
   "nbconvert_exporter": "python",
   "pygments_lexer": "ipython3",
   "version": "3.7.4"
  },
  "orig_nbformat": 4
 },
 "nbformat": 4,
 "nbformat_minor": 2
}
