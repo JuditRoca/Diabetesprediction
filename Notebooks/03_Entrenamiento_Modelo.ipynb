{
 "cells": [
  {
   "cell_type": "code",
   "execution_count": 14,
   "metadata": {},
   "outputs": [],
   "source": [
    "import pandas as pd \n",
    "import numpy as np"
   ]
  },
  {
   "attachments": {},
   "cell_type": "markdown",
   "metadata": {},
   "source": [
    "## 1. Carga fichero."
   ]
  },
  {
   "cell_type": "code",
   "execution_count": 15,
   "metadata": {},
   "outputs": [
    {
     "data": {
      "text/html": [
       "<div>\n",
       "<style scoped>\n",
       "    .dataframe tbody tr th:only-of-type {\n",
       "        vertical-align: middle;\n",
       "    }\n",
       "\n",
       "    .dataframe tbody tr th {\n",
       "        vertical-align: top;\n",
       "    }\n",
       "\n",
       "    .dataframe thead th {\n",
       "        text-align: right;\n",
       "    }\n",
       "</style>\n",
       "<table border=\"1\" class=\"dataframe\">\n",
       "  <thead>\n",
       "    <tr style=\"text-align: right;\">\n",
       "      <th></th>\n",
       "      <th>work_year</th>\n",
       "      <th>salario_eur</th>\n",
       "      <th>experience_level_mean</th>\n",
       "      <th>employment_type_mean</th>\n",
       "      <th>job_title_mean</th>\n",
       "      <th>company_location_mean</th>\n",
       "      <th>employee_location_mean</th>\n",
       "      <th>company_size_mean</th>\n",
       "      <th>remote_ratio_mean</th>\n",
       "    </tr>\n",
       "  </thead>\n",
       "  <tbody>\n",
       "    <tr>\n",
       "      <th>0</th>\n",
       "      <td>2022</td>\n",
       "      <td>33831.16</td>\n",
       "      <td>140806.985819</td>\n",
       "      <td>127249.063604</td>\n",
       "      <td>131362.875846</td>\n",
       "      <td>53061.979740</td>\n",
       "      <td>55626.282000</td>\n",
       "      <td>131680.104497</td>\n",
       "      <td>127249.063604</td>\n",
       "    </tr>\n",
       "    <tr>\n",
       "      <th>1</th>\n",
       "      <td>2023</td>\n",
       "      <td>139656.00</td>\n",
       "      <td>96163.864000</td>\n",
       "      <td>127249.063604</td>\n",
       "      <td>148317.059512</td>\n",
       "      <td>139676.248776</td>\n",
       "      <td>140596.250719</td>\n",
       "      <td>131680.104497</td>\n",
       "      <td>127249.063604</td>\n",
       "    </tr>\n",
       "    <tr>\n",
       "      <th>2</th>\n",
       "      <td>2022</td>\n",
       "      <td>92000.00</td>\n",
       "      <td>140806.985819</td>\n",
       "      <td>127249.063604</td>\n",
       "      <td>100018.928954</td>\n",
       "      <td>139676.248776</td>\n",
       "      <td>140596.250719</td>\n",
       "      <td>131680.104497</td>\n",
       "      <td>127249.063604</td>\n",
       "    </tr>\n",
       "    <tr>\n",
       "      <th>3</th>\n",
       "      <td>2022</td>\n",
       "      <td>144072.00</td>\n",
       "      <td>140806.985819</td>\n",
       "      <td>127249.063604</td>\n",
       "      <td>131362.875846</td>\n",
       "      <td>139676.248776</td>\n",
       "      <td>140596.250719</td>\n",
       "      <td>131680.104497</td>\n",
       "      <td>127249.063604</td>\n",
       "    </tr>\n",
       "    <tr>\n",
       "      <th>4</th>\n",
       "      <td>2023</td>\n",
       "      <td>161000.00</td>\n",
       "      <td>140806.985819</td>\n",
       "      <td>127249.063604</td>\n",
       "      <td>131362.875846</td>\n",
       "      <td>139676.248776</td>\n",
       "      <td>140596.250719</td>\n",
       "      <td>131680.104497</td>\n",
       "      <td>127249.063604</td>\n",
       "    </tr>\n",
       "  </tbody>\n",
       "</table>\n",
       "</div>"
      ],
      "text/plain": [
       "   work_year  salario_eur  experience_level_mean  employment_type_mean  \\\n",
       "0       2022     33831.16          140806.985819         127249.063604   \n",
       "1       2023    139656.00           96163.864000         127249.063604   \n",
       "2       2022     92000.00          140806.985819         127249.063604   \n",
       "3       2022    144072.00          140806.985819         127249.063604   \n",
       "4       2023    161000.00          140806.985819         127249.063604   \n",
       "\n",
       "   job_title_mean  company_location_mean  employee_location_mean  \\\n",
       "0   131362.875846           53061.979740            55626.282000   \n",
       "1   148317.059512          139676.248776           140596.250719   \n",
       "2   100018.928954          139676.248776           140596.250719   \n",
       "3   131362.875846          139676.248776           140596.250719   \n",
       "4   131362.875846          139676.248776           140596.250719   \n",
       "\n",
       "   company_size_mean  remote_ratio_mean  \n",
       "0      131680.104497      127249.063604  \n",
       "1      131680.104497      127249.063604  \n",
       "2      131680.104497      127249.063604  \n",
       "3      131680.104497      127249.063604  \n",
       "4      131680.104497      127249.063604  "
      ]
     },
     "execution_count": 15,
     "metadata": {},
     "output_type": "execute_result"
    }
   ],
   "source": [
    "df = pd.read_csv(\"../Data/train.csv\")\n",
    "df.head()"
   ]
  },
  {
   "cell_type": "code",
   "execution_count": 16,
   "metadata": {},
   "outputs": [
    {
     "data": {
      "text/html": [
       "<div>\n",
       "<style scoped>\n",
       "    .dataframe tbody tr th:only-of-type {\n",
       "        vertical-align: middle;\n",
       "    }\n",
       "\n",
       "    .dataframe tbody tr th {\n",
       "        vertical-align: top;\n",
       "    }\n",
       "\n",
       "    .dataframe thead th {\n",
       "        text-align: right;\n",
       "    }\n",
       "</style>\n",
       "<table border=\"1\" class=\"dataframe\">\n",
       "  <thead>\n",
       "    <tr style=\"text-align: right;\">\n",
       "      <th></th>\n",
       "      <th>work_year</th>\n",
       "      <th>salario_eur</th>\n",
       "      <th>experience_level_mean</th>\n",
       "      <th>employment_type_mean</th>\n",
       "      <th>job_title_mean</th>\n",
       "      <th>company_location_mean</th>\n",
       "      <th>employee_location_mean</th>\n",
       "      <th>company_size_mean</th>\n",
       "      <th>remote_ratio_mean</th>\n",
       "    </tr>\n",
       "  </thead>\n",
       "  <tbody>\n",
       "    <tr>\n",
       "      <th>count</th>\n",
       "      <td>3004.000000</td>\n",
       "      <td>3004.000000</td>\n",
       "      <td>3004.000000</td>\n",
       "      <td>3004.000000</td>\n",
       "      <td>3004.000000</td>\n",
       "      <td>3004.000000</td>\n",
       "      <td>3004.000000</td>\n",
       "      <td>3004.000000</td>\n",
       "      <td>3004.000000</td>\n",
       "    </tr>\n",
       "    <tr>\n",
       "      <th>mean</th>\n",
       "      <td>2022.367177</td>\n",
       "      <td>127011.510200</td>\n",
       "      <td>126571.201710</td>\n",
       "      <td>126563.919420</td>\n",
       "      <td>126934.830434</td>\n",
       "      <td>126748.237500</td>\n",
       "      <td>126770.925641</td>\n",
       "      <td>126630.927094</td>\n",
       "      <td>126563.919420</td>\n",
       "    </tr>\n",
       "    <tr>\n",
       "      <th>std</th>\n",
       "      <td>0.691994</td>\n",
       "      <td>58054.043449</td>\n",
       "      <td>25848.609445</td>\n",
       "      <td>7385.145193</td>\n",
       "      <td>21868.171718</td>\n",
       "      <td>30119.169160</td>\n",
       "      <td>31244.172219</td>\n",
       "      <td>13169.938111</td>\n",
       "      <td>7385.145193</td>\n",
       "    </tr>\n",
       "    <tr>\n",
       "      <th>min</th>\n",
       "      <td>2020.000000</td>\n",
       "      <td>4721.440000</td>\n",
       "      <td>72262.581625</td>\n",
       "      <td>36371.009412</td>\n",
       "      <td>19644.070000</td>\n",
       "      <td>5799.680000</td>\n",
       "      <td>5799.680000</td>\n",
       "      <td>71968.547838</td>\n",
       "      <td>36371.009412</td>\n",
       "    </tr>\n",
       "    <tr>\n",
       "      <th>25%</th>\n",
       "      <td>2022.000000</td>\n",
       "      <td>87400.000000</td>\n",
       "      <td>96163.864000</td>\n",
       "      <td>127249.063604</td>\n",
       "      <td>129600.184238</td>\n",
       "      <td>139676.248776</td>\n",
       "      <td>140596.250719</td>\n",
       "      <td>131680.104497</td>\n",
       "      <td>127249.063604</td>\n",
       "    </tr>\n",
       "    <tr>\n",
       "      <th>50%</th>\n",
       "      <td>2022.000000</td>\n",
       "      <td>124200.000000</td>\n",
       "      <td>140806.985819</td>\n",
       "      <td>127249.063604</td>\n",
       "      <td>131362.875846</td>\n",
       "      <td>139676.248776</td>\n",
       "      <td>140596.250719</td>\n",
       "      <td>131680.104497</td>\n",
       "      <td>127249.063604</td>\n",
       "    </tr>\n",
       "    <tr>\n",
       "      <th>75%</th>\n",
       "      <td>2023.000000</td>\n",
       "      <td>162150.000000</td>\n",
       "      <td>140806.985819</td>\n",
       "      <td>127249.063604</td>\n",
       "      <td>131362.875846</td>\n",
       "      <td>139676.248776</td>\n",
       "      <td>140596.250719</td>\n",
       "      <td>131680.104497</td>\n",
       "      <td>127249.063604</td>\n",
       "    </tr>\n",
       "    <tr>\n",
       "      <th>max</th>\n",
       "      <td>2023.000000</td>\n",
       "      <td>414000.000000</td>\n",
       "      <td>179336.455439</td>\n",
       "      <td>127249.063604</td>\n",
       "      <td>230000.000000</td>\n",
       "      <td>249730.780000</td>\n",
       "      <td>389927.280000</td>\n",
       "      <td>131680.104497</td>\n",
       "      <td>127249.063604</td>\n",
       "    </tr>\n",
       "  </tbody>\n",
       "</table>\n",
       "</div>"
      ],
      "text/plain": [
       "         work_year    salario_eur  experience_level_mean  \\\n",
       "count  3004.000000    3004.000000            3004.000000   \n",
       "mean   2022.367177  127011.510200          126571.201710   \n",
       "std       0.691994   58054.043449           25848.609445   \n",
       "min    2020.000000    4721.440000           72262.581625   \n",
       "25%    2022.000000   87400.000000           96163.864000   \n",
       "50%    2022.000000  124200.000000          140806.985819   \n",
       "75%    2023.000000  162150.000000          140806.985819   \n",
       "max    2023.000000  414000.000000          179336.455439   \n",
       "\n",
       "       employment_type_mean  job_title_mean  company_location_mean  \\\n",
       "count           3004.000000     3004.000000            3004.000000   \n",
       "mean          126563.919420   126934.830434          126748.237500   \n",
       "std             7385.145193    21868.171718           30119.169160   \n",
       "min            36371.009412    19644.070000            5799.680000   \n",
       "25%           127249.063604   129600.184238          139676.248776   \n",
       "50%           127249.063604   131362.875846          139676.248776   \n",
       "75%           127249.063604   131362.875846          139676.248776   \n",
       "max           127249.063604   230000.000000          249730.780000   \n",
       "\n",
       "       employee_location_mean  company_size_mean  remote_ratio_mean  \n",
       "count             3004.000000        3004.000000        3004.000000  \n",
       "mean            126770.925641      126630.927094      126563.919420  \n",
       "std              31244.172219       13169.938111        7385.145193  \n",
       "min               5799.680000       71968.547838       36371.009412  \n",
       "25%             140596.250719      131680.104497      127249.063604  \n",
       "50%             140596.250719      131680.104497      127249.063604  \n",
       "75%             140596.250719      131680.104497      127249.063604  \n",
       "max             389927.280000      131680.104497      127249.063604  "
      ]
     },
     "execution_count": 16,
     "metadata": {},
     "output_type": "execute_result"
    }
   ],
   "source": [
    "df.describe()"
   ]
  },
  {
   "attachments": {},
   "cell_type": "markdown",
   "metadata": {},
   "source": [
    "## 2. Creacion X/Y."
   ]
  },
  {
   "cell_type": "code",
   "execution_count": 17,
   "metadata": {},
   "outputs": [],
   "source": [
    "from sklearn.model_selection import train_test_split"
   ]
  },
  {
   "cell_type": "code",
   "execution_count": 18,
   "metadata": {},
   "outputs": [],
   "source": [
    "X = df.drop(columns=[\"salario_eur\"], axis=1)\n",
    "y = df[\"salario_eur\"]"
   ]
  },
  {
   "cell_type": "code",
   "execution_count": 60,
   "metadata": {},
   "outputs": [
    {
     "name": "stdout",
     "output_type": "stream",
     "text": [
      "(600, 8)\n",
      "(2404, 8)\n",
      "(600,)\n",
      "(2404,)\n"
     ]
    }
   ],
   "source": [
    "X_train, X_test, y_train, y_test = train_test_split(X, y, train_size=0.2, random_state=42)\n",
    "\n",
    "print(X_train.shape)\n",
    "print(X_test.shape)\n",
    "print(y_train.shape)\n",
    "print(y_test.shape)"
   ]
  },
  {
   "attachments": {},
   "cell_type": "markdown",
   "metadata": {},
   "source": [
    "### 3. Modelo baseline."
   ]
  },
  {
   "cell_type": "code",
   "execution_count": 20,
   "metadata": {},
   "outputs": [],
   "source": [
    "from sklearn.linear_model import LinearRegression"
   ]
  },
  {
   "cell_type": "code",
   "execution_count": 61,
   "metadata": {},
   "outputs": [
    {
     "data": {
      "text/plain": [
       "LinearRegression()"
      ]
     },
     "execution_count": 61,
     "metadata": {},
     "output_type": "execute_result"
    }
   ],
   "source": [
    "baseline_model = LinearRegression()\n",
    "baseline_model.fit(X_train, y_train)"
   ]
  },
  {
   "cell_type": "code",
   "execution_count": 62,
   "metadata": {},
   "outputs": [],
   "source": [
    "baseline_predictions = baseline_model.predict(X_test)"
   ]
  },
  {
   "cell_type": "code",
   "execution_count": 39,
   "metadata": {},
   "outputs": [],
   "source": [
    "from sklearn.metrics import mean_absolute_error, mean_squared_error, accuracy_score"
   ]
  },
  {
   "cell_type": "code",
   "execution_count": 63,
   "metadata": {},
   "outputs": [
    {
     "name": "stdout",
     "output_type": "stream",
     "text": [
      "MAE 33441.58526043329\n",
      "MSE 2027566593.1896944\n",
      "RMSE 45028.50867161486\n"
     ]
    }
   ],
   "source": [
    "print(\"MAE\", mean_absolute_error(y_test, baseline_predictions))\n",
    "print(\"MSE\", mean_squared_error(y_test, baseline_predictions))\n",
    "print(\"RMSE\", np.sqrt(mean_squared_error(y_test, baseline_predictions)))"
   ]
  },
  {
   "attachments": {},
   "cell_type": "markdown",
   "metadata": {},
   "source": [
    "#### 4. Polynomial Regression"
   ]
  },
  {
   "cell_type": "code",
   "execution_count": 52,
   "metadata": {},
   "outputs": [
    {
     "data": {
      "text/plain": [
       "LinearRegression()"
      ]
     },
     "execution_count": 52,
     "metadata": {},
     "output_type": "execute_result"
    }
   ],
   "source": [
    "from sklearn.preprocessing import PolynomialFeatures\n",
    "\n",
    "poly_reg = PolynomialFeatures(degree=3)\n",
    "poly_reg.fit(X_train)\n",
    "X_train_poly = poly_reg.transform(X_train)\n",
    "X_test_poly = poly_reg.transform(X_test)\n",
    "\n",
    "pol_reg_2 = LinearRegression()\n",
    "pol_reg_2.fit(X_train_poly, y_train)"
   ]
  },
  {
   "cell_type": "code",
   "execution_count": 53,
   "metadata": {},
   "outputs": [
    {
     "name": "stdout",
     "output_type": "stream",
     "text": [
      "scoore 0.5555791898677631\n",
      "MAE 375123155.5069547\n",
      "MSE 3.739585931336453e+19\n",
      "RMSE 6115215393.8650875\n"
     ]
    }
   ],
   "source": [
    "poly_prediction = pol_reg_2.predict(X_test_poly)\n",
    "\n",
    "print(\"scoore\" , pol_reg_2.score(X_train_poly, y_train))\n",
    "\n",
    "print(\"MAE\", mean_absolute_error(y_test, poly_prediction))\n",
    "print(\"MSE\", mean_squared_error(y_test, poly_prediction))\n",
    "print(\"RMSE\", np.sqrt(mean_squared_error(y_test, poly_prediction)))\n"
   ]
  },
  {
   "attachments": {},
   "cell_type": "markdown",
   "metadata": {},
   "source": [
    "Mejora el resultado pero sigue dando margen a mejora."
   ]
  },
  {
   "attachments": {},
   "cell_type": "markdown",
   "metadata": {},
   "source": [
    "#### 4. Regression Tree"
   ]
  },
  {
   "cell_type": "code",
   "execution_count": 33,
   "metadata": {},
   "outputs": [],
   "source": [
    "from sklearn.tree import DecisionTreeRegressor"
   ]
  },
  {
   "cell_type": "code",
   "execution_count": 34,
   "metadata": {},
   "outputs": [],
   "source": [
    "from sklearn.model_selection import GridSearchCV\n",
    "\n",
    "model = DecisionTreeRegressor(random_state=0)\n",
    "\n",
    "parameters = {\"max_depth\":[2,3,4,5,6,7],\n",
    "              \"criterion\": ['squared_error', 'absolute_error'],\n",
    "              \"min_samples_split\": [2,4,6,8,10,12],\n",
    "              \"min_samples_leaf\": [2,5,10,15],\n",
    "              \"max_features\": [1,2]\n",
    "}\n",
    "\n",
    "dtr_gs = GridSearchCV(model, parameters, cv=5, scoring=\"neg_mean_absolute_error\", n_jobs= -1)"
   ]
  },
  {
   "cell_type": "code",
   "execution_count": 35,
   "metadata": {},
   "outputs": [
    {
     "data": {
      "text/plain": [
       "GridSearchCV(cv=5, estimator=DecisionTreeRegressor(random_state=0), n_jobs=-1,\n",
       "             param_grid={'criterion': ['squared_error', 'absolute_error'],\n",
       "                         'max_depth': [2, 3, 4, 5, 6, 7],\n",
       "                         'max_features': [1, 2],\n",
       "                         'min_samples_leaf': [2, 5, 10, 15],\n",
       "                         'min_samples_split': [2, 4, 6, 8, 10, 12]},\n",
       "             scoring='neg_mean_absolute_error')"
      ]
     },
     "execution_count": 35,
     "metadata": {},
     "output_type": "execute_result"
    }
   ],
   "source": [
    "dtr_gs.fit(X_train, y_train)"
   ]
  },
  {
   "cell_type": "code",
   "execution_count": 36,
   "metadata": {},
   "outputs": [
    {
     "data": {
      "text/plain": [
       "{'criterion': 'absolute_error',\n",
       " 'max_depth': 7,\n",
       " 'max_features': 2,\n",
       " 'min_samples_leaf': 2,\n",
       " 'min_samples_split': 6}"
      ]
     },
     "execution_count": 36,
     "metadata": {},
     "output_type": "execute_result"
    }
   ],
   "source": [
    "dtr_gs.best_params_"
   ]
  },
  {
   "cell_type": "code",
   "execution_count": 48,
   "metadata": {},
   "outputs": [
    {
     "name": "stdout",
     "output_type": "stream",
     "text": [
      "scoore 0.5555791898677631\n",
      "MAE 34541.95586522463\n",
      "MSE 2301249167.869171\n",
      "RMSE 47971.33694060622\n"
     ]
    }
   ],
   "source": [
    "y_pred_tree = dtr_gs.best_estimator_.predict(X_test)\n",
    "print(\"scoore\" , pol_reg_2.score(X_train_poly, y_train))\n",
    "print(\"MAE\", mean_absolute_error(y_test, y_pred_tree))\n",
    "print(\"MSE\", mean_squared_error(y_test, y_pred_tree))\n",
    "print(\"RMSE\", np.sqrt(mean_squared_error(y_test, y_pred_tree)))"
   ]
  },
  {
   "cell_type": "code",
   "execution_count": 9,
   "metadata": {},
   "outputs": [],
   "source": [
    "import pickle\n",
    "\n",
    "with open('../models/train_model.pkl', 'wb') as archivo_salida:\n",
    "    pickle.dump(baseline_model, archivo_salida)"
   ]
  },
  {
   "attachments": {},
   "cell_type": "markdown",
   "metadata": {},
   "source": [
    "### XGRB modelo\n"
   ]
  },
  {
   "cell_type": "code",
   "execution_count": 42,
   "metadata": {},
   "outputs": [],
   "source": [
    "\n",
    "import xgboost as xgb\n",
    "from xgboost import XGBRegressor\n",
    "from sklearn.preprocessing import OrdinalEncoder\n"
   ]
  },
  {
   "cell_type": "code",
   "execution_count": 45,
   "metadata": {},
   "outputs": [],
   "source": [
    "model_xgb = XGBRegressor(\n",
    "    objective=\"reg:squarederror\",\n",
    "    n_estimators=10_000,\n",
    "    max_depth=7,\n",
    "    learning_rate=0.1,\n",
    ")"
   ]
  },
  {
   "cell_type": "code",
   "execution_count": 46,
   "metadata": {},
   "outputs": [
    {
     "data": {
      "text/plain": [
       "XGBRegressor(base_score=0.5, booster='gbtree', callbacks=None,\n",
       "             colsample_bylevel=1, colsample_bynode=1, colsample_bytree=1,\n",
       "             early_stopping_rounds=None, enable_categorical=False,\n",
       "             eval_metric=None, gamma=0, gpu_id=-1, grow_policy='depthwise',\n",
       "             importance_type=None, interaction_constraints='',\n",
       "             learning_rate=0.1, max_bin=256, max_cat_to_onehot=4,\n",
       "             max_delta_step=0, max_depth=7, max_leaves=0, min_child_weight=1,\n",
       "             missing=nan, monotone_constraints='()', n_estimators=10000,\n",
       "             n_jobs=0, num_parallel_tree=1, predictor='auto', random_state=0,\n",
       "             reg_alpha=0, reg_lambda=1, ...)"
      ]
     },
     "execution_count": 46,
     "metadata": {},
     "output_type": "execute_result"
    }
   ],
   "source": [
    "model_xgb.fit(X_train, y_train)"
   ]
  },
  {
   "cell_type": "code",
   "execution_count": 71,
   "metadata": {},
   "outputs": [
    {
     "name": "stdout",
     "output_type": "stream",
     "text": [
      "scoore 0.34310271050247376\n",
      "MAE 34750.11931757618\n",
      "MSE 2245766882.579237\n",
      "RMSE 47389.52291993703\n"
     ]
    }
   ],
   "source": [
    "y_pred_xgb = model_xgb.predict(X_test)\n",
    "print(\"scoore\" , model_xgb.score(X_test, y_test))\n",
    "print(\"MAE\", mean_absolute_error(y_test, y_pred_xgb))\n",
    "print(\"MSE\", mean_squared_error(y_test, y_pred_xgb))\n",
    "print(\"RMSE\", np.sqrt(mean_squared_error(y_test, y_pred_xgb)))"
   ]
  },
  {
   "attachments": {},
   "cell_type": "markdown",
   "metadata": {},
   "source": [
    "### RANDOM FOREST REGRESION"
   ]
  },
  {
   "cell_type": "code",
   "execution_count": 87,
   "metadata": {},
   "outputs": [],
   "source": [
    "from sklearn.ensemble import RandomForestRegressor\n",
    "RFR_model = RandomForestRegressor(max_depth=5, n_estimators=10)\n",
    "\n"
   ]
  },
  {
   "cell_type": "code",
   "execution_count": 88,
   "metadata": {},
   "outputs": [
    {
     "data": {
      "text/plain": [
       "RandomForestRegressor(max_depth=5, n_estimators=10)"
      ]
     },
     "execution_count": 88,
     "metadata": {},
     "output_type": "execute_result"
    }
   ],
   "source": [
    "RFR_model.fit(X_train, y_train)"
   ]
  },
  {
   "cell_type": "code",
   "execution_count": 85,
   "metadata": {},
   "outputs": [],
   "source": [
    "from sklearn.metrics import r2_score"
   ]
  },
  {
   "cell_type": "code",
   "execution_count": 94,
   "metadata": {},
   "outputs": [
    {
     "name": "stdout",
     "output_type": "stream",
     "text": [
      "scoore train 0.5101080212731279\n",
      "scoore test 0.4625277931254358\n",
      "MAE 31921.26206427934\n",
      "MSE 1837482513.3301423\n",
      "RMSE 42865.86652956105\n",
      "RF_scoore 0.4625277931254358\n"
     ]
    }
   ],
   "source": [
    "y_pred_RFR= RFR_model.predict(X_test)\n",
    "print(\"scoore train\" , RFR_model.score(X_train, y_train))\n",
    "print(\"scoore test\" , RFR_model.score(X_test, y_test))\n",
    "\n",
    "print(\"MAE\", mean_absolute_error(y_test, y_pred_RFR))\n",
    "print(\"MSE\", mean_squared_error(y_test, y_pred_RFR))\n",
    "print(\"RMSE\", np.sqrt(mean_squared_error(y_test, y_pred_RFR)))\n",
    "print(\"RF_scoore\", r2_score(y_test , y_pred_RFR))"
   ]
  },
  {
   "attachments": {},
   "cell_type": "markdown",
   "metadata": {},
   "source": [
    "## PIPELINE\n"
   ]
  },
  {
   "cell_type": "code",
   "execution_count": 79,
   "metadata": {},
   "outputs": [],
   "source": [
    "from sklearn.pipeline import Pipeline\n",
    "from sklearn.preprocessing import StandardScaler\n",
    "from sklearn.linear_model import LinearRegression\n",
    "from sklearn.ensemble import RandomForestRegressor\n",
    "from xgboost import XGBRegressor\n",
    "from sklearn.model_selection import GridSearchCV"
   ]
  },
  {
   "cell_type": "code",
   "execution_count": 80,
   "metadata": {},
   "outputs": [
    {
     "name": "stdout",
     "output_type": "stream",
     "text": [
      "Mejor modelo: Pipeline(steps=[('scaler', StandardScaler()),\n",
      "                ('model', RandomForestRegressor(max_depth=5, n_estimators=10))])\n",
      "Mejores hiperparámetros: {'model': RandomForestRegressor(max_depth=5, n_estimators=10), 'model__max_depth': 5, 'model__n_estimators': 10}\n"
     ]
    }
   ],
   "source": [
    "\n",
    "# Definir los pasos del pipeline\n",
    "steps = [\n",
    "    ('scaler', StandardScaler()),  # Escalado de datos\n",
    "    ('model', None)  # Modelo a evaluar (se especificará posteriormente)\n",
    "]\n",
    "\n",
    "# Crear el pipeline\n",
    "pipeline = Pipeline(steps)\n",
    "\n",
    "# Definir los hiperparámetros a ajustar para cada modelo\n",
    "parameters = [\n",
    "    {\n",
    "        'model': [LinearRegression()]  # Regresión lineal\n",
    "    },\n",
    "    {\n",
    "        'model': [RandomForestRegressor()],  # RandomForestRegressor\n",
    "        'model__n_estimators': [10, 50, 100],  # Número de árboles en el bosque\n",
    "        'model__max_depth': [None, 5, 10],  # Profundidad máxima de los árboles\n",
    "    },\n",
    "    {\n",
    "        'model': [XGBRegressor()],  # XGBRegressor\n",
    "        'model__n_estimators': [10, 50, 100],  # Número de estimadores (árboles)\n",
    "        'model__max_depth': [3, 6, 9],  # Profundidad máxima de los árboles\n",
    "        'model__learning_rate': [0.1, 0.01, 0.001],  # Tasa de aprendizaje\n",
    "    }\n",
    "]\n",
    "\n",
    "# Realizar la búsqueda de hiperparámetros y seleccionar el mejor modelo\n",
    "grid_search = GridSearchCV(pipeline, parameters, cv=5, scoring='neg_mean_squared_error')\n",
    "grid_search.fit(X_train, y_train)  # X_train y y_train son tus datos de entrenamiento\n",
    "\n",
    "# Obtener el mejor modelo y sus hiperparámetros\n",
    "best_model = grid_search.best_estimator_\n",
    "best_params = grid_search.best_params_\n",
    "\n",
    "# Imprimir el mejor modelo y sus hiperparámetros\n",
    "print(\"Mejor modelo:\", best_model)\n",
    "print(\"Mejores hiperparámetros:\", best_params)"
   ]
  }
 ],
 "metadata": {
  "kernelspec": {
   "display_name": "Python 3",
   "language": "python",
   "name": "python3"
  },
  "language_info": {
   "codemirror_mode": {
    "name": "ipython",
    "version": 3
   },
   "file_extension": ".py",
   "mimetype": "text/x-python",
   "name": "python",
   "nbconvert_exporter": "python",
   "pygments_lexer": "ipython3",
   "version": "3.7.4"
  },
  "orig_nbformat": 4
 },
 "nbformat": 4,
 "nbformat_minor": 2
}
