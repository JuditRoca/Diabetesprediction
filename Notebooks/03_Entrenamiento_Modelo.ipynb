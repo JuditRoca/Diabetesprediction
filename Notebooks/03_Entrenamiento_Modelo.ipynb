{
 "cells": [
  {
   "cell_type": "code",
   "execution_count": 2,
   "metadata": {},
   "outputs": [],
   "source": [
    "import pandas as pd \n",
    "import numpy as np"
   ]
  },
  {
   "attachments": {},
   "cell_type": "markdown",
   "metadata": {},
   "source": [
    "## 1. Carga fichero."
   ]
  },
  {
   "cell_type": "code",
   "execution_count": 3,
   "metadata": {},
   "outputs": [
    {
     "data": {
      "text/html": [
       "<div>\n",
       "<style scoped>\n",
       "    .dataframe tbody tr th:only-of-type {\n",
       "        vertical-align: middle;\n",
       "    }\n",
       "\n",
       "    .dataframe tbody tr th {\n",
       "        vertical-align: top;\n",
       "    }\n",
       "\n",
       "    .dataframe thead th {\n",
       "        text-align: right;\n",
       "    }\n",
       "</style>\n",
       "<table border=\"1\" class=\"dataframe\">\n",
       "  <thead>\n",
       "    <tr style=\"text-align: right;\">\n",
       "      <th></th>\n",
       "      <th>work_year</th>\n",
       "      <th>salario_eur</th>\n",
       "      <th>experience_level</th>\n",
       "      <th>employment_type_encoded</th>\n",
       "      <th>job_title_map</th>\n",
       "      <th>company_location</th>\n",
       "      <th>employee_residence</th>\n",
       "      <th>company_size</th>\n",
       "      <th>remote_ratio</th>\n",
       "    </tr>\n",
       "  </thead>\n",
       "  <tbody>\n",
       "    <tr>\n",
       "      <th>0</th>\n",
       "      <td>2022</td>\n",
       "      <td>33831.16</td>\n",
       "      <td>3</td>\n",
       "      <td>2</td>\n",
       "      <td>3</td>\n",
       "      <td>35</td>\n",
       "      <td>40</td>\n",
       "      <td>1</td>\n",
       "      <td>0</td>\n",
       "    </tr>\n",
       "    <tr>\n",
       "      <th>1</th>\n",
       "      <td>2023</td>\n",
       "      <td>139656.00</td>\n",
       "      <td>2</td>\n",
       "      <td>2</td>\n",
       "      <td>1</td>\n",
       "      <td>3</td>\n",
       "      <td>4</td>\n",
       "      <td>1</td>\n",
       "      <td>100</td>\n",
       "    </tr>\n",
       "    <tr>\n",
       "      <th>2</th>\n",
       "      <td>2022</td>\n",
       "      <td>92000.00</td>\n",
       "      <td>3</td>\n",
       "      <td>2</td>\n",
       "      <td>3</td>\n",
       "      <td>3</td>\n",
       "      <td>4</td>\n",
       "      <td>1</td>\n",
       "      <td>0</td>\n",
       "    </tr>\n",
       "    <tr>\n",
       "      <th>3</th>\n",
       "      <td>2022</td>\n",
       "      <td>144072.00</td>\n",
       "      <td>3</td>\n",
       "      <td>2</td>\n",
       "      <td>3</td>\n",
       "      <td>3</td>\n",
       "      <td>4</td>\n",
       "      <td>1</td>\n",
       "      <td>100</td>\n",
       "    </tr>\n",
       "    <tr>\n",
       "      <th>4</th>\n",
       "      <td>2023</td>\n",
       "      <td>161000.00</td>\n",
       "      <td>3</td>\n",
       "      <td>2</td>\n",
       "      <td>3</td>\n",
       "      <td>3</td>\n",
       "      <td>4</td>\n",
       "      <td>1</td>\n",
       "      <td>100</td>\n",
       "    </tr>\n",
       "  </tbody>\n",
       "</table>\n",
       "</div>"
      ],
      "text/plain": [
       "   work_year  salario_eur  experience_level  employment_type_encoded  \\\n",
       "0       2022     33831.16                 3                        2   \n",
       "1       2023    139656.00                 2                        2   \n",
       "2       2022     92000.00                 3                        2   \n",
       "3       2022    144072.00                 3                        2   \n",
       "4       2023    161000.00                 3                        2   \n",
       "\n",
       "   job_title_map  company_location  employee_residence  company_size  \\\n",
       "0              3                35                  40             1   \n",
       "1              1                 3                   4             1   \n",
       "2              3                 3                   4             1   \n",
       "3              3                 3                   4             1   \n",
       "4              3                 3                   4             1   \n",
       "\n",
       "   remote_ratio  \n",
       "0             0  \n",
       "1           100  \n",
       "2             0  \n",
       "3           100  \n",
       "4           100  "
      ]
     },
     "execution_count": 3,
     "metadata": {},
     "output_type": "execute_result"
    }
   ],
   "source": [
    "df = pd.read_csv(\"../Data/train.csv\")\n",
    "df.head()"
   ]
  },
  {
   "cell_type": "code",
   "execution_count": 4,
   "metadata": {},
   "outputs": [
    {
     "data": {
      "text/html": [
       "<div>\n",
       "<style scoped>\n",
       "    .dataframe tbody tr th:only-of-type {\n",
       "        vertical-align: middle;\n",
       "    }\n",
       "\n",
       "    .dataframe tbody tr th {\n",
       "        vertical-align: top;\n",
       "    }\n",
       "\n",
       "    .dataframe thead th {\n",
       "        text-align: right;\n",
       "    }\n",
       "</style>\n",
       "<table border=\"1\" class=\"dataframe\">\n",
       "  <thead>\n",
       "    <tr style=\"text-align: right;\">\n",
       "      <th></th>\n",
       "      <th>work_year</th>\n",
       "      <th>salario_eur</th>\n",
       "      <th>experience_level</th>\n",
       "      <th>employment_type_encoded</th>\n",
       "      <th>job_title_map</th>\n",
       "      <th>company_location</th>\n",
       "      <th>employee_residence</th>\n",
       "      <th>company_size</th>\n",
       "      <th>remote_ratio</th>\n",
       "    </tr>\n",
       "  </thead>\n",
       "  <tbody>\n",
       "    <tr>\n",
       "      <th>count</th>\n",
       "      <td>3004.000000</td>\n",
       "      <td>3004.000000</td>\n",
       "      <td>3004.000000</td>\n",
       "      <td>3004.000000</td>\n",
       "      <td>3004.000000</td>\n",
       "      <td>3004.000000</td>\n",
       "      <td>3004.000000</td>\n",
       "      <td>3004.000000</td>\n",
       "      <td>3004.000000</td>\n",
       "    </tr>\n",
       "    <tr>\n",
       "      <th>mean</th>\n",
       "      <td>2022.367177</td>\n",
       "      <td>127011.510200</td>\n",
       "      <td>2.646138</td>\n",
       "      <td>1.995672</td>\n",
       "      <td>2.212383</td>\n",
       "      <td>7.553262</td>\n",
       "      <td>9.668442</td>\n",
       "      <td>1.083888</td>\n",
       "      <td>46.970706</td>\n",
       "    </tr>\n",
       "    <tr>\n",
       "      <th>std</th>\n",
       "      <td>0.691994</td>\n",
       "      <td>58054.043449</td>\n",
       "      <td>0.676627</td>\n",
       "      <td>0.142458</td>\n",
       "      <td>1.291961</td>\n",
       "      <td>11.873606</td>\n",
       "      <td>13.882166</td>\n",
       "      <td>0.390897</td>\n",
       "      <td>48.632424</td>\n",
       "    </tr>\n",
       "    <tr>\n",
       "      <th>min</th>\n",
       "      <td>2020.000000</td>\n",
       "      <td>4721.440000</td>\n",
       "      <td>1.000000</td>\n",
       "      <td>0.000000</td>\n",
       "      <td>0.000000</td>\n",
       "      <td>1.000000</td>\n",
       "      <td>1.000000</td>\n",
       "      <td>0.000000</td>\n",
       "      <td>0.000000</td>\n",
       "    </tr>\n",
       "    <tr>\n",
       "      <th>25%</th>\n",
       "      <td>2022.000000</td>\n",
       "      <td>87400.000000</td>\n",
       "      <td>2.000000</td>\n",
       "      <td>2.000000</td>\n",
       "      <td>1.000000</td>\n",
       "      <td>3.000000</td>\n",
       "      <td>4.000000</td>\n",
       "      <td>1.000000</td>\n",
       "      <td>0.000000</td>\n",
       "    </tr>\n",
       "    <tr>\n",
       "      <th>50%</th>\n",
       "      <td>2022.000000</td>\n",
       "      <td>124200.000000</td>\n",
       "      <td>3.000000</td>\n",
       "      <td>2.000000</td>\n",
       "      <td>3.000000</td>\n",
       "      <td>3.000000</td>\n",
       "      <td>4.000000</td>\n",
       "      <td>1.000000</td>\n",
       "      <td>0.000000</td>\n",
       "    </tr>\n",
       "    <tr>\n",
       "      <th>75%</th>\n",
       "      <td>2023.000000</td>\n",
       "      <td>162150.000000</td>\n",
       "      <td>3.000000</td>\n",
       "      <td>2.000000</td>\n",
       "      <td>3.000000</td>\n",
       "      <td>3.000000</td>\n",
       "      <td>4.000000</td>\n",
       "      <td>1.000000</td>\n",
       "      <td>100.000000</td>\n",
       "    </tr>\n",
       "    <tr>\n",
       "      <th>max</th>\n",
       "      <td>2023.000000</td>\n",
       "      <td>414000.000000</td>\n",
       "      <td>4.000000</td>\n",
       "      <td>3.000000</td>\n",
       "      <td>5.000000</td>\n",
       "      <td>72.000000</td>\n",
       "      <td>78.000000</td>\n",
       "      <td>2.000000</td>\n",
       "      <td>100.000000</td>\n",
       "    </tr>\n",
       "  </tbody>\n",
       "</table>\n",
       "</div>"
      ],
      "text/plain": [
       "         work_year    salario_eur  experience_level  employment_type_encoded  \\\n",
       "count  3004.000000    3004.000000       3004.000000              3004.000000   \n",
       "mean   2022.367177  127011.510200          2.646138                 1.995672   \n",
       "std       0.691994   58054.043449          0.676627                 0.142458   \n",
       "min    2020.000000    4721.440000          1.000000                 0.000000   \n",
       "25%    2022.000000   87400.000000          2.000000                 2.000000   \n",
       "50%    2022.000000  124200.000000          3.000000                 2.000000   \n",
       "75%    2023.000000  162150.000000          3.000000                 2.000000   \n",
       "max    2023.000000  414000.000000          4.000000                 3.000000   \n",
       "\n",
       "       job_title_map  company_location  employee_residence  company_size  \\\n",
       "count    3004.000000       3004.000000         3004.000000   3004.000000   \n",
       "mean        2.212383          7.553262            9.668442      1.083888   \n",
       "std         1.291961         11.873606           13.882166      0.390897   \n",
       "min         0.000000          1.000000            1.000000      0.000000   \n",
       "25%         1.000000          3.000000            4.000000      1.000000   \n",
       "50%         3.000000          3.000000            4.000000      1.000000   \n",
       "75%         3.000000          3.000000            4.000000      1.000000   \n",
       "max         5.000000         72.000000           78.000000      2.000000   \n",
       "\n",
       "       remote_ratio  \n",
       "count   3004.000000  \n",
       "mean      46.970706  \n",
       "std       48.632424  \n",
       "min        0.000000  \n",
       "25%        0.000000  \n",
       "50%        0.000000  \n",
       "75%      100.000000  \n",
       "max      100.000000  "
      ]
     },
     "execution_count": 4,
     "metadata": {},
     "output_type": "execute_result"
    }
   ],
   "source": [
    "df.describe()"
   ]
  },
  {
   "attachments": {},
   "cell_type": "markdown",
   "metadata": {},
   "source": [
    "## 2. Creacion X/Y."
   ]
  },
  {
   "cell_type": "code",
   "execution_count": 5,
   "metadata": {},
   "outputs": [],
   "source": [
    "from sklearn.model_selection import train_test_split"
   ]
  },
  {
   "cell_type": "code",
   "execution_count": 6,
   "metadata": {},
   "outputs": [],
   "source": [
    "X = df.drop(columns=[\"salario_eur\"], axis=1)\n",
    "y = df[\"salario_eur\"]"
   ]
  },
  {
   "cell_type": "code",
   "execution_count": 7,
   "metadata": {},
   "outputs": [
    {
     "name": "stdout",
     "output_type": "stream",
     "text": [
      "(600, 8)\n",
      "(2404, 8)\n",
      "(600,)\n",
      "(2404,)\n"
     ]
    }
   ],
   "source": [
    "X_train, X_test, y_train, y_test = train_test_split(X, y, train_size=0.2, random_state=42)\n",
    "\n",
    "print(X_train.shape)\n",
    "print(X_test.shape)\n",
    "print(y_train.shape)\n",
    "print(y_test.shape)"
   ]
  },
  {
   "cell_type": "code",
   "execution_count": 8,
   "metadata": {},
   "outputs": [],
   "source": [
    "from sklearn.preprocessing import PolynomialFeatures, StandardScaler"
   ]
  },
  {
   "cell_type": "code",
   "execution_count": 21,
   "metadata": {},
   "outputs": [],
   "source": [
    "# Creo el scaler con los datos de train\n",
    "scal = StandardScaler() # Declaro el scaler\n",
    "scal.fit(X_train) \n",
    "X_train_scal = scal.transform(X_train) # Aplico el scaler \n",
    "X_test_scal = scal.transform(X_test)\n",
    "\n",
    "#Reverse\n",
    "#X_train = scal.inverse_transform(X_train)\n"
   ]
  },
  {
   "attachments": {},
   "cell_type": "markdown",
   "metadata": {},
   "source": [
    "###  1º Regresión lineal."
   ]
  },
  {
   "cell_type": "code",
   "execution_count": 10,
   "metadata": {},
   "outputs": [],
   "source": [
    "from sklearn.linear_model import LinearRegression"
   ]
  },
  {
   "cell_type": "code",
   "execution_count": 11,
   "metadata": {},
   "outputs": [
    {
     "data": {
      "text/plain": [
       "LinearRegression()"
      ]
     },
     "execution_count": 11,
     "metadata": {},
     "output_type": "execute_result"
    }
   ],
   "source": [
    "linear_model = LinearRegression()\n",
    "linear_model.fit(X_train_scal, y_train)"
   ]
  },
  {
   "cell_type": "code",
   "execution_count": 12,
   "metadata": {},
   "outputs": [],
   "source": [
    "from sklearn.metrics import mean_absolute_error, mean_squared_error, accuracy_score, r2_score"
   ]
  },
  {
   "cell_type": "code",
   "execution_count": 13,
   "metadata": {},
   "outputs": [],
   "source": [
    "def valoracion_modelos(tipo, modelo, Xtest, ytest):\n",
    "\n",
    "    y_pred = modelo.predict(Xtest)\n",
    "    print(\"RF_scoore\", r2_score(ytest , y_pred))\n",
    "    print(\"MAE\", tipo, mean_absolute_error(ytest, y_pred))\n",
    "    print(\"MSE\",tipo, mean_squared_error(ytest, y_pred))\n"
   ]
  },
  {
   "cell_type": "code",
   "execution_count": 14,
   "metadata": {},
   "outputs": [
    {
     "name": "stdout",
     "output_type": "stream",
     "text": [
      "RF_scoore -28874.528654948135\n",
      "MAE linear_model 9931968.52194605\n",
      "MSE linear_model 98718181680812.83\n"
     ]
    },
    {
     "name": "stderr",
     "output_type": "stream",
     "text": [
      "c:\\Users\\Usuario\\AppData\\Local\\Programs\\Python\\Python37\\lib\\site-packages\\sklearn\\base.py:444: UserWarning: X has feature names, but LinearRegression was fitted without feature names\n",
      "  f\"X has feature names, but {self.__class__.__name__} was fitted without\"\n"
     ]
    }
   ],
   "source": [
    "valoracion_modelos(\"linear_model\",linear_model, X_test, y_test )"
   ]
  },
  {
   "attachments": {},
   "cell_type": "markdown",
   "metadata": {},
   "source": [
    "#### 2. Polynomial Regression"
   ]
  },
  {
   "cell_type": "code",
   "execution_count": 15,
   "metadata": {},
   "outputs": [
    {
     "data": {
      "text/plain": [
       "LinearRegression()"
      ]
     },
     "execution_count": 15,
     "metadata": {},
     "output_type": "execute_result"
    }
   ],
   "source": [
    "from sklearn.preprocessing import PolynomialFeatures\n",
    "\n",
    "poly_reg = PolynomialFeatures(degree=3)\n",
    "poly_reg.fit(X_train)\n",
    "X_train_poly = poly_reg.transform(X_train)\n",
    "X_test_poly = poly_reg.transform(X_test)\n",
    "\n",
    "pol_reg_2 = LinearRegression()\n",
    "pol_reg_2.fit(X_train_poly, y_train)"
   ]
  },
  {
   "cell_type": "code",
   "execution_count": 16,
   "metadata": {},
   "outputs": [
    {
     "name": "stdout",
     "output_type": "stream",
     "text": [
      "RF_scoore -10696613916437.605\n",
      "MAE polynomial 15558563751.586884\n",
      "MSE polynomial 3.6569037006757918e+22\n"
     ]
    }
   ],
   "source": [
    "valoracion_modelos(\"polynomial\",pol_reg_2, X_test_poly, y_test )"
   ]
  },
  {
   "attachments": {},
   "cell_type": "markdown",
   "metadata": {},
   "source": [
    "Mejora el resultado pero sigue dando margen a mejora."
   ]
  },
  {
   "attachments": {},
   "cell_type": "markdown",
   "metadata": {},
   "source": [
    "#### 3. Random Forest Regressor"
   ]
  },
  {
   "cell_type": "code",
   "execution_count": 17,
   "metadata": {},
   "outputs": [],
   "source": [
    "from sklearn.ensemble import RandomForestRegressor\n",
    "from sklearn.model_selection import GridSearchCV\n",
    "\n",
    "model = RandomForestRegressor(random_state=0)\n",
    "\n",
    "parameters = {\"max_depth\":[2,3,4,5,6,7],\n",
    "              \"criterion\": ['squared_error', 'absolute_error'],\n",
    "              \"min_samples_split\": [2, 5, 10],\n",
    "              \"min_samples_leaf\": [1, 2, 4],\n",
    "              \"max_features\": [3,4,5,6]\n",
    "}\n",
    "\n",
    "dtr_gs = GridSearchCV(model, parameters, cv=5, scoring=\"neg_mean_absolute_error\", n_jobs= -1)"
   ]
  },
  {
   "cell_type": "code",
   "execution_count": 22,
   "metadata": {},
   "outputs": [
    {
     "data": {
      "text/plain": [
       "GridSearchCV(cv=5, estimator=RandomForestRegressor(random_state=0), n_jobs=-1,\n",
       "             param_grid={'criterion': ['squared_error', 'absolute_error'],\n",
       "                         'max_depth': [2, 3, 4, 5, 6, 7],\n",
       "                         'max_features': [3, 4, 5, 6],\n",
       "                         'min_samples_leaf': [1, 2, 4],\n",
       "                         'min_samples_split': [2, 5, 10]},\n",
       "             scoring='neg_mean_absolute_error')"
      ]
     },
     "execution_count": 22,
     "metadata": {},
     "output_type": "execute_result"
    }
   ],
   "source": [
    "dtr_gs.fit(X_train_scal, y_train)"
   ]
  },
  {
   "cell_type": "code",
   "execution_count": 23,
   "metadata": {},
   "outputs": [
    {
     "data": {
      "text/plain": [
       "{'criterion': 'absolute_error',\n",
       " 'max_depth': 6,\n",
       " 'max_features': 5,\n",
       " 'min_samples_leaf': 2,\n",
       " 'min_samples_split': 5}"
      ]
     },
     "execution_count": 23,
     "metadata": {},
     "output_type": "execute_result"
    }
   ],
   "source": [
    "dtr_gs.best_params_"
   ]
  },
  {
   "cell_type": "code",
   "execution_count": 24,
   "metadata": {},
   "outputs": [
    {
     "name": "stdout",
     "output_type": "stream",
     "text": [
      "RF_scoore 0.35047648700282397\n",
      "MAE randomforest 34166.62927454243\n",
      "MSE randomforest 2220557792.3169\n"
     ]
    }
   ],
   "source": [
    "valoracion_modelos(\"randomforest\",dtr_gs, X_test_scal, y_test )"
   ]
  },
  {
   "attachments": {},
   "cell_type": "markdown",
   "metadata": {},
   "source": [
    "### 4. XGRB modelo\n"
   ]
  },
  {
   "cell_type": "code",
   "execution_count": 25,
   "metadata": {},
   "outputs": [],
   "source": [
    "import xgboost as xgb\n",
    "from xgboost import XGBRegressor\n",
    "from sklearn.preprocessing import OrdinalEncoder"
   ]
  },
  {
   "cell_type": "code",
   "execution_count": 26,
   "metadata": {},
   "outputs": [],
   "source": [
    "model_xgb = XGBRegressor(\n",
    "    objective=\"reg:squarederror\",\n",
    "    n_estimators=10_000,\n",
    "    max_depth=7,\n",
    "    learning_rate=0.1,\n",
    ")"
   ]
  },
  {
   "cell_type": "code",
   "execution_count": 34,
   "metadata": {},
   "outputs": [
    {
     "data": {
      "text/plain": [
       "XGBRegressor(base_score=0.5, booster='gbtree', callbacks=None,\n",
       "             colsample_bylevel=1, colsample_bynode=1, colsample_bytree=1,\n",
       "             early_stopping_rounds=None, enable_categorical=False,\n",
       "             eval_metric=None, gamma=0, gpu_id=-1, grow_policy='depthwise',\n",
       "             importance_type=None, interaction_constraints='',\n",
       "             learning_rate=0.1, max_bin=256, max_cat_to_onehot=4,\n",
       "             max_delta_step=0, max_depth=7, max_leaves=0, min_child_weight=1,\n",
       "             missing=nan, monotone_constraints='()', n_estimators=10000,\n",
       "             n_jobs=0, num_parallel_tree=1, predictor='auto', random_state=0,\n",
       "             reg_alpha=0, reg_lambda=1, ...)"
      ]
     },
     "execution_count": 34,
     "metadata": {},
     "output_type": "execute_result"
    }
   ],
   "source": [
    "model_xgb.fit(X_train, y_train)"
   ]
  },
  {
   "cell_type": "code",
   "execution_count": 35,
   "metadata": {},
   "outputs": [
    {
     "name": "stdout",
     "output_type": "stream",
     "text": [
      "RF_scoore 0.32060631107038495\n",
      "MAE model_xgb 35473.12087838628\n",
      "MSE model_xgb 2322676423.278521\n"
     ]
    }
   ],
   "source": [
    "valoracion_modelos(\"model_xgb\",model_xgb, X_test, y_test )\n",
    "#la valoracion del modelo usando x scalada daba mucho peor"
   ]
  },
  {
   "attachments": {},
   "cell_type": "markdown",
   "metadata": {},
   "source": [
    "### 5. Pipeline"
   ]
  },
  {
   "cell_type": "code",
   "execution_count": 30,
   "metadata": {},
   "outputs": [],
   "source": [
    "from sklearn.pipeline import Pipeline\n",
    "from sklearn.preprocessing import StandardScaler\n",
    "from sklearn.linear_model import LinearRegression\n",
    "from sklearn.ensemble import RandomForestRegressor\n",
    "from xgboost import XGBRegressor\n"
   ]
  },
  {
   "cell_type": "code",
   "execution_count": 31,
   "metadata": {},
   "outputs": [
    {
     "data": {
      "text/plain": [
       "GridSearchCV(cv=5,\n",
       "             estimator=Pipeline(steps=[('scaler', StandardScaler()),\n",
       "                                       ('model', None)]),\n",
       "             param_grid=[{'model': [LinearRegression()]},\n",
       "                         {'model': [RandomForestRegressor()],\n",
       "                          'model__max_depth': [None, 5, 10],\n",
       "                          'model__n_estimators': [10, 50, 100]},\n",
       "                         {'model': [XGBRegressor(base_score=None, booster=None,\n",
       "                                                 callbacks=None,\n",
       "                                                 colsample_bylevel=None,\n",
       "                                                 colsample_bynode=None,\n",
       "                                                 colsa...\n",
       "                                                 max_delta_step=None,\n",
       "                                                 max_depth=3, max_leaves=None,\n",
       "                                                 min_child_weight=None,\n",
       "                                                 missing=nan,\n",
       "                                                 monotone_constraints=None,\n",
       "                                                 n_estimators=50, n_jobs=None,\n",
       "                                                 num_parallel_tree=None,\n",
       "                                                 predictor=None,\n",
       "                                                 random_state=None,\n",
       "                                                 reg_alpha=None,\n",
       "                                                 reg_lambda=None, ...)],\n",
       "                          'model__learning_rate': [0.1, 0.01, 0.001],\n",
       "                          'model__max_depth': [3, 6, 9],\n",
       "                          'model__n_estimators': [10, 50, 100]}],\n",
       "             scoring='neg_mean_squared_error')"
      ]
     },
     "execution_count": 31,
     "metadata": {},
     "output_type": "execute_result"
    }
   ],
   "source": [
    "\n",
    "# Definir los pasos del pipeline\n",
    "steps = [\n",
    "    ('scaler', StandardScaler()),  # Escalado de datos\n",
    "    ('model', None)  # Modelo a evaluar (se especificará posteriormente)\n",
    "]\n",
    "\n",
    "# Crear el pipeline\n",
    "pipeline = Pipeline(steps)\n",
    "\n",
    "# Definir los hiperparámetros a ajustar para cada modelo\n",
    "parameters = [\n",
    "    {\n",
    "        'model': [LinearRegression()]  # Regresión lineal\n",
    "    },\n",
    "    {\n",
    "        'model': [RandomForestRegressor()],  # RandomForestRegressor\n",
    "        'model__n_estimators': [10, 50, 100],  # Número de árboles en el bosque\n",
    "        'model__max_depth': [None, 5, 10],  # Profundidad máxima de los árboles\n",
    "    },\n",
    "    {\n",
    "        'model': [XGBRegressor()],  # XGBRegressor\n",
    "        'model__n_estimators': [10, 50, 100],  # Número de estimadores (árboles)\n",
    "        'model__max_depth': [3, 6, 9],  # Profundidad máxima de los árboles\n",
    "        'model__learning_rate': [0.1, 0.01, 0.001],  # Tasa de aprendizaje\n",
    "    }\n",
    "]\n",
    "\n",
    "# Realizar la búsqueda de hiperparámetros y seleccionar el mejor modelo\n",
    "grid_search = GridSearchCV(pipeline, parameters, cv=5, scoring='neg_mean_squared_error')\n",
    "grid_search.fit(X_train, y_train)  # X_train y y_train son tus datos de entrenamiento\n",
    "\n"
   ]
  },
  {
   "cell_type": "code",
   "execution_count": 32,
   "metadata": {},
   "outputs": [],
   "source": [
    "# Obtener el mejor modelo y sus hiperparámetros\n",
    "best_model = grid_search.best_estimator_\n",
    "best_params = grid_search.best_params_\n"
   ]
  },
  {
   "cell_type": "code",
   "execution_count": 33,
   "metadata": {},
   "outputs": [
    {
     "name": "stdout",
     "output_type": "stream",
     "text": [
      "RF_scoore 0.3742762808418403\n",
      "MAE pipeline 34132.12454520379\n",
      "MSE pipeline 2139192273.4292207\n"
     ]
    }
   ],
   "source": [
    "valoracion_modelos(\"pipeline\",best_model, X_test, y_test )"
   ]
  },
  {
   "cell_type": "code",
   "execution_count": 36,
   "metadata": {},
   "outputs": [],
   "source": [
    "import pickle\n",
    "\n",
    "with open('../models/train_model.pkl', 'wb') as archivo_salida:\n",
    "    pickle.dump(best_model, archivo_salida)"
   ]
  },
  {
   "attachments": {},
   "cell_type": "markdown",
   "metadata": {},
   "source": [
    "### 6. PCA- no supervisado"
   ]
  },
  {
   "cell_type": "code",
   "execution_count": 77,
   "metadata": {},
   "outputs": [],
   "source": [
    "from sklearn.decomposition import PCA\n",
    "from scipy import stats"
   ]
  },
  {
   "cell_type": "code",
   "execution_count": 10,
   "metadata": {},
   "outputs": [],
   "source": [
    "from sklearn.preprocessing import StandardScaler"
   ]
  },
  {
   "cell_type": "code",
   "execution_count": 23,
   "metadata": {},
   "outputs": [],
   "source": [
    "scaler = StandardScaler()\n",
    "X_scaled = scaler.fit_transform(X)"
   ]
  },
  {
   "cell_type": "code",
   "execution_count": 24,
   "metadata": {},
   "outputs": [
    {
     "data": {
      "text/plain": [
       "(3004, 8)"
      ]
     },
     "execution_count": 24,
     "metadata": {},
     "output_type": "execute_result"
    }
   ],
   "source": [
    "X_scaled.shape"
   ]
  },
  {
   "cell_type": "code",
   "execution_count": 78,
   "metadata": {},
   "outputs": [],
   "source": [
    "pca = PCA(n_components=8)\n",
    "X_pca = pca.fit_transform(X_scaled)\n"
   ]
  },
  {
   "cell_type": "code",
   "execution_count": 79,
   "metadata": {},
   "outputs": [],
   "source": [
    "import matplotlib.pyplot as plt"
   ]
  },
  {
   "cell_type": "code",
   "execution_count": 80,
   "metadata": {},
   "outputs": [
    {
     "data": {
      "text/plain": [
       "array([0.30481036, 0.44822216, 0.57649485, 0.69939132, 0.81576539,\n",
       "       0.90607408, 0.99140761, 1.        ])"
      ]
     },
     "execution_count": 80,
     "metadata": {},
     "output_type": "execute_result"
    }
   ],
   "source": [
    "pca.explained_variance_ratio_.cumsum()"
   ]
  },
  {
   "cell_type": "code",
   "execution_count": 81,
   "metadata": {},
   "outputs": [
    {
     "data": {
      "image/png": "[encoded data removed]",
      "text/plain": [
       "<Figure size 640x480 with 1 Axes>"
      ]
     },
     "metadata": {},
     "output_type": "display_data"
    }
   ],
   "source": [
    "plt.plot(pd.Series(pca.explained_variance_ratio_.cumsum(), index=np.arange(1,9)))\n",
    "plt.xlabel('Number of PCs')\n",
    "plt.ylabel(\"Cumulative explained variance ratio\");"
   ]
  },
  {
   "cell_type": "code",
   "execution_count": 82,
   "metadata": {},
   "outputs": [
    {
     "data": {
      "text/html": [
       "<div>\n",
       "<style scoped>\n",
       "    .dataframe tbody tr th:only-of-type {\n",
       "        vertical-align: middle;\n",
       "    }\n",
       "\n",
       "    .dataframe tbody tr th {\n",
       "        vertical-align: top;\n",
       "    }\n",
       "\n",
       "    .dataframe thead th {\n",
       "        text-align: right;\n",
       "    }\n",
       "</style>\n",
       "<table border=\"1\" class=\"dataframe\">\n",
       "  <thead>\n",
       "    <tr style=\"text-align: right;\">\n",
       "      <th></th>\n",
       "      <th>work_year</th>\n",
       "      <th>experience_level_mean</th>\n",
       "      <th>employment_type_encoded</th>\n",
       "      <th>job_title_mean</th>\n",
       "      <th>company_location_mean</th>\n",
       "      <th>employee_location_mean</th>\n",
       "      <th>company_size</th>\n",
       "      <th>remote_ratio</th>\n",
       "    </tr>\n",
       "  </thead>\n",
       "  <tbody>\n",
       "    <tr>\n",
       "      <th>PC1</th>\n",
       "      <td>0.336822</td>\n",
       "      <td>0.379444</td>\n",
       "      <td>-0.013862</td>\n",
       "      <td>0.210291</td>\n",
       "      <td>0.573298</td>\n",
       "      <td>0.581133</td>\n",
       "      <td>-0.118406</td>\n",
       "      <td>-0.133237</td>\n",
       "    </tr>\n",
       "    <tr>\n",
       "      <th>PC2</th>\n",
       "      <td>-0.473366</td>\n",
       "      <td>0.192252</td>\n",
       "      <td>-0.246535</td>\n",
       "      <td>0.240997</td>\n",
       "      <td>0.151820</td>\n",
       "      <td>0.133381</td>\n",
       "      <td>0.363991</td>\n",
       "      <td>0.668413</td>\n",
       "    </tr>\n",
       "    <tr>\n",
       "      <th>PC3</th>\n",
       "      <td>0.032875</td>\n",
       "      <td>-0.012259</td>\n",
       "      <td>-0.684783</td>\n",
       "      <td>-0.266695</td>\n",
       "      <td>0.007604</td>\n",
       "      <td>-0.018152</td>\n",
       "      <td>-0.639982</td>\n",
       "      <td>0.220796</td>\n",
       "    </tr>\n",
       "    <tr>\n",
       "      <th>PC4</th>\n",
       "      <td>0.130757</td>\n",
       "      <td>0.174755</td>\n",
       "      <td>-0.463749</td>\n",
       "      <td>0.699983</td>\n",
       "      <td>-0.267021</td>\n",
       "      <td>-0.245241</td>\n",
       "      <td>0.099335</td>\n",
       "      <td>-0.325597</td>\n",
       "    </tr>\n",
       "    <tr>\n",
       "      <th>PC5</th>\n",
       "      <td>0.025769</td>\n",
       "      <td>-0.297373</td>\n",
       "      <td>-0.503665</td>\n",
       "      <td>-0.377215</td>\n",
       "      <td>0.166574</td>\n",
       "      <td>0.180860</td>\n",
       "      <td>0.583495</td>\n",
       "      <td>-0.337657</td>\n",
       "    </tr>\n",
       "    <tr>\n",
       "      <th>PC6</th>\n",
       "      <td>0.468256</td>\n",
       "      <td>0.639273</td>\n",
       "      <td>-0.036729</td>\n",
       "      <td>-0.378285</td>\n",
       "      <td>-0.242099</td>\n",
       "      <td>-0.207353</td>\n",
       "      <td>0.284839</td>\n",
       "      <td>0.211844</td>\n",
       "    </tr>\n",
       "    <tr>\n",
       "      <th>PC7</th>\n",
       "      <td>-0.650967</td>\n",
       "      <td>0.539555</td>\n",
       "      <td>-0.001896</td>\n",
       "      <td>-0.226278</td>\n",
       "      <td>-0.007957</td>\n",
       "      <td>-0.015559</td>\n",
       "      <td>-0.109518</td>\n",
       "      <td>-0.470763</td>\n",
       "    </tr>\n",
       "    <tr>\n",
       "      <th>PC8</th>\n",
       "      <td>0.024736</td>\n",
       "      <td>0.012322</td>\n",
       "      <td>0.002489</td>\n",
       "      <td>0.001773</td>\n",
       "      <td>0.700357</td>\n",
       "      <td>-0.712793</td>\n",
       "      <td>0.021281</td>\n",
       "      <td>-0.014176</td>\n",
       "    </tr>\n",
       "  </tbody>\n",
       "</table>\n",
       "</div>"
      ],
      "text/plain": [
       "     work_year  experience_level_mean  employment_type_encoded  \\\n",
       "PC1   0.336822               0.379444                -0.013862   \n",
       "PC2  -0.473366               0.192252                -0.246535   \n",
       "PC3   0.032875              -0.012259                -0.684783   \n",
       "PC4   0.130757               0.174755                -0.463749   \n",
       "PC5   0.025769              -0.297373                -0.503665   \n",
       "PC6   0.468256               0.639273                -0.036729   \n",
       "PC7  -0.650967               0.539555                -0.001896   \n",
       "PC8   0.024736               0.012322                 0.002489   \n",
       "\n",
       "     job_title_mean  company_location_mean  employee_location_mean  \\\n",
       "PC1        0.210291               0.573298                0.581133   \n",
       "PC2        0.240997               0.151820                0.133381   \n",
       "PC3       -0.266695               0.007604               -0.018152   \n",
       "PC4        0.699983              -0.267021               -0.245241   \n",
       "PC5       -0.377215               0.166574                0.180860   \n",
       "PC6       -0.378285              -0.242099               -0.207353   \n",
       "PC7       -0.226278              -0.007957               -0.015559   \n",
       "PC8        0.001773               0.700357               -0.712793   \n",
       "\n",
       "     company_size  remote_ratio  \n",
       "PC1     -0.118406     -0.133237  \n",
       "PC2      0.363991      0.668413  \n",
       "PC3     -0.639982      0.220796  \n",
       "PC4      0.099335     -0.325597  \n",
       "PC5      0.583495     -0.337657  \n",
       "PC6      0.284839      0.211844  \n",
       "PC7     -0.109518     -0.470763  \n",
       "PC8      0.021281     -0.014176  "
      ]
     },
     "execution_count": 82,
     "metadata": {},
     "output_type": "execute_result"
    }
   ],
   "source": [
    "pd.DataFrame(pca.components_[:8], columns=X.columns, index=['PC1','PC2','PC3','PC4','PC5', 'PC6','PC7','PC8'])"
   ]
  },
  {
   "cell_type": "code",
   "execution_count": 83,
   "metadata": {},
   "outputs": [],
   "source": [
    "from sklearn.linear_model import LogisticRegression\n",
    "from sklearn.pipeline import Pipeline\n"
   ]
  },
  {
   "cell_type": "code",
   "execution_count": 89,
   "metadata": {},
   "outputs": [
    {
     "data": {
      "text/plain": [
       "Pipeline(steps=[('scaler', StandardScaler()), ('pca', PCA(n_components=5)),\n",
       "                ('classifier', RandomForestRegressor())])"
      ]
     },
     "execution_count": 89,
     "metadata": {},
     "output_type": "execute_result"
    }
   ],
   "source": [
    "pipe = Pipeline(steps=[\n",
    "    ('scaler', StandardScaler()),\n",
    "    ('pca', PCA(n_components=5)),\n",
    "    ('classifier', RandomForestRegressor())\n",
    "])\n",
    "pipe"
   ]
  },
  {
   "cell_type": "code",
   "execution_count": 93,
   "metadata": {},
   "outputs": [],
   "source": [
    "params= {\n",
    "    'scaler': [StandardScaler(), None],\n",
    "    'pca__n_components': [5,6,7],\n",
    "    'classifier__max_depth': np.arange(3,7),\n",
    "    'classifier__min_samples_leaf': [2,3,4]\n",
    "}\n",
    "\n",
    "gs = GridSearchCV(pipe, params, cv=5, scoring='neg_mean_absolute_error')"
   ]
  },
  {
   "cell_type": "code",
   "execution_count": 94,
   "metadata": {},
   "outputs": [
    {
     "data": {
      "text/plain": [
       "GridSearchCV(cv=5,\n",
       "             estimator=Pipeline(steps=[('scaler', StandardScaler()),\n",
       "                                       ('pca', PCA(n_components=5)),\n",
       "                                       ('classifier',\n",
       "                                        RandomForestRegressor())]),\n",
       "             param_grid={'classifier__max_depth': array([3, 4, 5, 6]),\n",
       "                         'classifier__min_samples_leaf': [2, 3, 4],\n",
       "                         'pca__n_components': [5, 6, 7],\n",
       "                         'scaler': [StandardScaler(), None]},\n",
       "             scoring='neg_mean_absolute_error')"
      ]
     },
     "execution_count": 94,
     "metadata": {},
     "output_type": "execute_result"
    }
   ],
   "source": [
    "gs.fit(X_train, y_train)"
   ]
  },
  {
   "cell_type": "code",
   "execution_count": 95,
   "metadata": {},
   "outputs": [
    {
     "name": "stdout",
     "output_type": "stream",
     "text": [
      "RF_scoore 0.3946492169479565\n",
      "MAE pca_randomforest 33345.78133688359\n",
      "MSE pca_randomforest 2069542320.6291175\n"
     ]
    }
   ],
   "source": [
    "valoracion_modelos(\"pca_randomforest\",gs, X_test, y_test )"
   ]
  }
 ],
 "metadata": {
  "kernelspec": {
   "display_name": "Python 3",
   "language": "python",
   "name": "python3"
  },
  "language_info": {
   "codemirror_mode": {
    "name": "ipython",
    "version": 3
   },
   "file_extension": ".py",
   "mimetype": "text/x-python",
   "name": "python",
   "nbconvert_exporter": "python",
   "pygments_lexer": "ipython3",
   "version": "3.7.4"
  },
  "orig_nbformat": 4
 },
 "nbformat": 4,
 "nbformat_minor": 2
}
